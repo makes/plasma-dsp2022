{
 "cells": [
  {
   "cell_type": "code",
   "execution_count": 1,
   "metadata": {},
   "outputs": [
    {
     "name": "stdout",
     "output_type": "stream",
     "text": [
      "Using LaTeX formatting\n",
      "Using backend module://matplotlib_inline.backend_inline\n",
      "Using LaTeX formatting\n",
      "Using backend module://matplotlib_inline.backend_inline\n",
      "Note: Did not import (outdated MayaVi2) grid module:  No module named 'traits'\n",
      "Using matplotlib version 3.4.3\n",
      "Note: Did not import (outdated MayaVi2) grid module:  No module named 'traits'\n"
     ]
    }
   ],
   "source": [
    "import sys\n",
    "sys.path.insert(0, 'analysator')\n",
    "from analysator import pytools as pt"
   ]
  },
  {
   "cell_type": "code",
   "execution_count": 2,
   "metadata": {},
   "outputs": [],
   "source": [
    "filename = 'data/bulk.0000015.vlsv'"
   ]
  },
  {
   "cell_type": "code",
   "execution_count": 3,
   "metadata": {},
   "outputs": [
    {
     "name": "stdout",
     "output_type": "stream",
     "text": [
      "Found population proton\n"
     ]
    }
   ],
   "source": [
    "f = pt.vlsvfile.VlsvReader(file_name=filename)"
   ]
  },
  {
   "cell_type": "code",
   "execution_count": 4,
   "metadata": {},
   "outputs": [
    {
     "name": "stdout",
     "output_type": "stream",
     "text": [
      "tag = PARAMETER\n",
      "    time\n",
      "    dt\n",
      "    timestep\n",
      "    fieldSolverSubcycles\n",
      "    fileIndex\n",
      "    xmin\n",
      "    xmax\n",
      "    ymin\n",
      "    ymax\n",
      "    zmin\n",
      "    zmax\n",
      "    xcells_ini\n",
      "    ycells_ini\n",
      "    zcells_ini\n",
      "    version\n",
      "    numWritingRanks\n",
      "tag = VARIABLE\n",
      "    CellID\n",
      "    fg_b\n",
      "    fg_e\n",
      "    proton/vg_blocks\n",
      "    proton/vg_rho_nonthermal\n",
      "    proton/vg_v_nonthermal\n",
      "    proton/vg_ptensor_nonthermal_diagonal\n",
      "    proton/vg_ptensor_nonthermal_offdiagonal\n",
      "    proton/vg_rho_thermal\n",
      "    proton/vg_v_thermal\n",
      "    proton/vg_ptensor_thermal_diagonal\n",
      "    proton/vg_ptensor_thermal_offdiagonal\n",
      "    proton/vg_ptensor_diagonal\n",
      "    proton/vg_ptensor_offdiagonal\n",
      "    proton/vg_rho\n",
      "    proton/vg_v\n",
      "    vg_b_vol\n",
      "    vg_boundarytype\n",
      "    vg_f_saved\n",
      "    vg_rank\n",
      "[1200    1    1]\n",
      "[[-2.66698448e+05  4.34434731e+01 -1.31178814e+06]\n",
      " [-2.66699390e+05  4.72151292e+01 -1.31178692e+06]\n",
      " [-2.66699208e+05  4.66805985e+01 -1.31178649e+06]\n",
      " ...\n",
      " [-7.49629967e+05  3.72498840e+01 -1.29813111e+06]\n",
      " [-7.49633943e+05  3.30509251e+01 -1.29813487e+06]\n",
      " [-7.49638550e+05  3.05224669e+01 -1.29813805e+06]]\n",
      "1200\n",
      "t = 150.04136125655154\n"
     ]
    }
   ],
   "source": [
    "f.list()\n",
    "m = f.get_spatial_mesh_size()\n",
    "print(m)\n",
    "a = f.read_variable(\"vg_v\")\n",
    "print(a)\n",
    "print(len(a))\n",
    "t = f.read_parameter('time')\n",
    "print(f't = {t}')"
   ]
  },
  {
   "cell_type": "code",
   "execution_count": null,
   "metadata": {},
   "outputs": [],
   "source": []
  }
 ],
 "metadata": {
  "interpreter": {
   "hash": "2c1fc70ff3ed5b375ef3c0c998544f7de210ad65b9844929bce5458d51796adc"
  },
  "kernelspec": {
   "display_name": "Python 3.9.7 64-bit ('ds': conda)",
   "language": "python",
   "name": "python3"
  },
  "language_info": {
   "codemirror_mode": {
    "name": "ipython",
    "version": 3
   },
   "file_extension": ".py",
   "mimetype": "text/x-python",
   "name": "python",
   "nbconvert_exporter": "python",
   "pygments_lexer": "ipython3",
   "version": "3.9.7"
  },
  "orig_nbformat": 4
 },
 "nbformat": 4,
 "nbformat_minor": 2
}
