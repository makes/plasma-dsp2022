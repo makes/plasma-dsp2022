{
 "cells": [
  {
   "cell_type": "code",
   "execution_count": 12,
   "metadata": {},
   "outputs": [],
   "source": [
    "import sys\n",
    "import os\n",
    "sys.path.insert(0, 'analysator')\n",
    "#os.environ['PTNOLATEX'] = '1'\n",
    "from analysator import pytools as pt\n",
    "import matplotlib.pyplot as plt"
   ]
  },
  {
   "cell_type": "code",
   "execution_count": 2,
   "metadata": {},
   "outputs": [],
   "source": [
    "filename = 'data/bulk.0000015.vlsv'"
   ]
  },
  {
   "cell_type": "code",
   "execution_count": 3,
   "metadata": {},
   "outputs": [
    {
     "name": "stdout",
     "output_type": "stream",
     "text": [
      "Found population proton\n"
     ]
    }
   ],
   "source": [
    "f = pt.vlsvfile.VlsvReader(file_name=filename)"
   ]
  },
  {
   "cell_type": "code",
   "execution_count": 4,
   "metadata": {},
   "outputs": [
    {
     "name": "stdout",
     "output_type": "stream",
     "text": [
      "tag = PARAMETER\n",
      "    time\n",
      "    dt\n",
      "    timestep\n",
      "    fieldSolverSubcycles\n",
      "    fileIndex\n",
      "    xmin\n",
      "    xmax\n",
      "    ymin\n",
      "    ymax\n",
      "    zmin\n",
      "    zmax\n",
      "    xcells_ini\n",
      "    ycells_ini\n",
      "    zcells_ini\n",
      "    version\n",
      "    numWritingRanks\n",
      "tag = VARIABLE\n",
      "    CellID\n",
      "    fg_b\n",
      "    fg_e\n",
      "    proton/vg_blocks\n",
      "    proton/vg_rho_nonthermal\n",
      "    proton/vg_v_nonthermal\n",
      "    proton/vg_ptensor_nonthermal_diagonal\n",
      "    proton/vg_ptensor_nonthermal_offdiagonal\n",
      "    proton/vg_rho_thermal\n",
      "    proton/vg_v_thermal\n",
      "    proton/vg_ptensor_thermal_diagonal\n",
      "    proton/vg_ptensor_thermal_offdiagonal\n",
      "    proton/vg_ptensor_diagonal\n",
      "    proton/vg_ptensor_offdiagonal\n",
      "    proton/vg_rho\n",
      "    proton/vg_v\n",
      "    vg_b_vol\n",
      "    vg_boundarytype\n",
      "    vg_f_saved\n",
      "    vg_rank\n",
      "[1200    1    1]\n",
      "[[-2.66698448e+05  4.34434731e+01 -1.31178814e+06]\n",
      " [-2.66699390e+05  4.72151292e+01 -1.31178692e+06]\n",
      " [-2.66699208e+05  4.66805985e+01 -1.31178649e+06]\n",
      " ...\n",
      " [-7.49629967e+05  3.72498840e+01 -1.29813111e+06]\n",
      " [-7.49633943e+05  3.30509251e+01 -1.29813487e+06]\n",
      " [-7.49638550e+05  3.05224669e+01 -1.29813805e+06]]\n",
      "1200\n",
      "t = 150.04136125655154\n"
     ]
    }
   ],
   "source": [
    "f.list()\n",
    "m = f.get_spatial_mesh_size()\n",
    "print(m)\n",
    "a = f.read_variable(\"vg_v\")\n",
    "print(a)\n",
    "print(len(a))\n",
    "t = f.read_parameter('time')\n",
    "print(f't = {t}')"
   ]
  },
  {
   "cell_type": "code",
   "execution_count": 6,
   "metadata": {},
   "outputs": [],
   "source": [
    "#pt.plot.plot_colormap?\n",
    "\n",
    "#pt.plot.plot_colormap(filename=filename)\n",
    "#pt.plot.plot_vdf_profiles(filename)"
   ]
  },
  {
   "cell_type": "code",
   "execution_count": null,
   "metadata": {},
   "outputs": [],
   "source": [
    "\n",
    "'''\n",
    "If I understand your question about the \"instances of variables\" correctly, you were talking about variables like\n",
    "\"proton/vg_rho\", \"proton/vg_v\", \"proton/vg_pressure_diagonal\", \"vol_vg_b\", etc. A full list and their meaning may be\n",
    "found here https://github.com/fmihpc/analysator/wiki/Supported-variables-and-data-reducers . As you may have guessed, \n",
    "the variables that start with \"proton/\" prefixes are all derived quantities from the VDFs of protons in each spatial \n",
    "cell. We call these operations \"reductions\", and the corresponding methods for extracting them are named \"reducers\" \n",
    "in Python. Some of the variables are completely irrelevant, such as \"vg_ranks\" (which saves the MPI process rank \n",
    "relates to the data) and \"dt\" (which save the discrete time steps for the PDE solver); some may be irrelevant, such \n",
    "as the electromagnetic field quantities \"fg_b\", \"fg_e\", \"vg_b_vol\", \"vg_e_vol\".\n",
    "'''\n"
   ]
  },
  {
   "cell_type": "code",
   "execution_count": 21,
   "metadata": {},
   "outputs": [
    {
     "data": {
      "image/png": "[encoded data removed]",
      "text/plain": [
       "<Figure size 432x288 with 1 Axes>"
      ]
     },
     "metadata": {
      "needs_background": "light"
     },
     "output_type": "display_data"
    }
   ],
   "source": [
    "var = f.read_variable('proton/vg_v')\n",
    "\n",
    "plt.plot(var)\n",
    "plt.show()"
   ]
  },
  {
   "cell_type": "code",
   "execution_count": null,
   "metadata": {},
   "outputs": [],
   "source": []
  }
 ],
 "metadata": {
  "interpreter": {
   "hash": "2c1fc70ff3ed5b375ef3c0c998544f7de210ad65b9844929bce5458d51796adc"
  },
  "kernelspec": {
   "display_name": "Python 3 (ipykernel)",
   "language": "python",
   "name": "python3"
  },
  "language_info": {
   "codemirror_mode": {
    "name": "ipython",
    "version": 3
   },
   "file_extension": ".py",
   "mimetype": "text/x-python",
   "name": "python",
   "nbconvert_exporter": "python",
   "pygments_lexer": "ipython3",
   "version": "3.8.2"
  }
 },
 "nbformat": 4,
 "nbformat_minor": 4
}
